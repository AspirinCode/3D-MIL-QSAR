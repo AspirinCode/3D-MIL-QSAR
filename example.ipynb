{
 "cells": [
  {
   "cell_type": "code",
   "execution_count": 1,
   "metadata": {},
   "outputs": [],
   "source": [
    "import os\n",
    "\n",
    "from utils import calc_3d_pmapper, scale_descriptors\n",
    "\n",
    "from sklearn.model_selection import train_test_split\n",
    "\n",
    "from miqsar.estimators.wrappers import MIWrapperMLPRegressor, miWrapperMLPRegressor\n",
    "from miqsar.estimators.attention_nets import AttentionNetRegressor\n",
    "from miqsar.estimators.mi_nets import MINetRegressor, miNetRegressor\n",
    "\n",
    "from sklearn.metrics import r2_score"
   ]
  },
  {
   "cell_type": "markdown",
   "metadata": {},
   "source": [
    "Read data"
   ]
  },
  {
   "cell_type": "code",
   "execution_count": 2,
   "metadata": {},
   "outputs": [],
   "source": [
    "dataset_file = 'datasets/CHEMBL1075104.smi'\n",
    "\n",
    "os.mkdir('descriptors')\n",
    "\n",
    "path = os.path.join('descriptors', 'tmp')\n",
    "os.mkdir(path)"
   ]
  },
  {
   "cell_type": "markdown",
   "metadata": {},
   "source": [
    "Set hyperparameters"
   ]
  },
  {
   "cell_type": "code",
   "execution_count": 3,
   "metadata": {},
   "outputs": [],
   "source": [
    "n_epoch = 500\n",
    "batch_size = 128\n",
    "lr = 0.001\n",
    "weight_decay = 0.01\n",
    "seed = 42\n",
    "init_cuda = True\n",
    "ncpu = 5\n",
    "random_state = 42"
   ]
  },
  {
   "cell_type": "markdown",
   "metadata": {},
   "source": [
    "Calculate descriptors for single conformation and train SI model"
   ]
  },
  {
   "cell_type": "code",
   "execution_count": 4,
   "metadata": {},
   "outputs": [
    {
     "name": "stderr",
     "output_type": "stream",
     "text": [
      "/home/zankov/anaconda3/envs/main/lib/python3.6/site-packages/torch_optimizer/yogi.py:117: UserWarning: This overload of add is deprecated:\n",
      "\tadd(Number alpha, Tensor other)\n",
      "Consider using one of the following signatures instead:\n",
      "\tadd(Tensor other, *, Number alpha) (Triggered internally at  /opt/conda/conda-bld/pytorch_1595629431274/work/torch/csrc/utils/python_arg_parser.cpp:766.)\n",
      "  grad = grad.add(group['weight_decay'], p.data)\n"
     ]
    },
    {
     "name": "stdout",
     "output_type": "stream",
     "text": [
      "3D/SI/Net: r2_score = -28.20\n"
     ]
    }
   ],
   "source": [
    "bags, labels, molid = calc_3d_pmapper(dataset_file, nconfs=1, stereo=False, path=path, ncpu=ncpu)\n",
    "x_train, x_test, y_train, y_test, molid_train, molid_test = train_test_split(bags, labels, molid, random_state=random_state)\n",
    "x_train, x_test = scale_descriptors(x_train, x_test)\n",
    "\n",
    "ndim = (x_train[0].shape[-1], 256, 128, 64)\n",
    "\n",
    "att_net = MINetRegressor(ndim=ndim, init_cuda=init_cuda)\n",
    "att_net.fit(x_train, y_train, n_epoch=n_epoch, dropout=0.9, batch_size=batch_size, weight_decay=weight_decay, lr=lr)\n",
    "\n",
    "predictions = att_net.predict(x_test)\n",
    "\n",
    "print('3D/SI/Net: r2_score = {:.2f}'.format(r2_score(y_test, predictions)))"
   ]
  },
  {
   "cell_type": "markdown",
   "metadata": {},
   "source": [
    "Calculate descriptors for multiple conformations and train MI model"
   ]
  },
  {
   "cell_type": "code",
   "execution_count": 5,
   "metadata": {},
   "outputs": [
    {
     "name": "stdout",
     "output_type": "stream",
     "text": [
      "3D/MI/Bag-AttentionNet: r2_score = -51.95\n"
     ]
    }
   ],
   "source": [
    "bags, labels, molid = calc_3d_pmapper(dataset_file, nconfs=5, stereo=False, path=path, ncpu=ncpu)\n",
    "x_train, x_test, y_train, y_test, molid_train, molid_test = train_test_split(bags, labels, molid, random_state=random_state)\n",
    "x_train, x_test = scale_descriptors(x_train, x_test)\n",
    "\n",
    "# train 3D/MI/Bag-AttentionNet\n",
    "ndim = (x_train[0].shape[-1], 256, 128, 64)\n",
    "det_ndim = (64,)\n",
    "\n",
    "att_net = AttentionNetRegressor(ndim=ndim, det_ndim=det_ndim, init_cuda=init_cuda)\n",
    "att_net.fit(x_train, y_train, n_epoch=n_epoch, dropout=0.8, batch_size=batch_size, weight_decay=weight_decay, lr=lr)\n",
    "\n",
    "predictions = att_net.predict(x_test)\n",
    "instance_weights = att_net.get_instance_weights(x_test)\n",
    "\n",
    "print('3D/MI/Bag-AttentionNet: r2_score = {:.2f}'.format(r2_score(y_test, predictions)))"
   ]
  },
  {
   "cell_type": "code",
   "execution_count": null,
   "metadata": {},
   "outputs": [],
   "source": []
  }
 ],
 "metadata": {
  "kernelspec": {
   "display_name": "main",
   "language": "python",
   "name": "main"
  },
  "language_info": {
   "codemirror_mode": {
    "name": "ipython",
    "version": 3
   },
   "file_extension": ".py",
   "mimetype": "text/x-python",
   "name": "python",
   "nbconvert_exporter": "python",
   "pygments_lexer": "ipython3",
   "version": "3.6.12"
  }
 },
 "nbformat": 4,
 "nbformat_minor": 1
}
